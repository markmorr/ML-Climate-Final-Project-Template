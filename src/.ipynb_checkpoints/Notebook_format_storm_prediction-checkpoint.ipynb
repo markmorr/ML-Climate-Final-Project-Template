{
 "cells": [
  {
   "cell_type": "code",
   "execution_count": 1,
   "id": "216bf557",
   "metadata": {},
   "outputs": [],
   "source": [
    "import pandas as pd\n",
    "import numpy as np\n",
    "import matplotlib.pyplot as plt\n",
    "# import altair as alt\n"
   ]
  },
  {
   "cell_type": "code",
   "execution_count": 4,
   "id": "e4172c6e",
   "metadata": {},
   "outputs": [],
   "source": [
    "\n",
    "# #recent ~10 years\n",
    "# df1 = pd.read_csv(r'C:\\Users\\16028\\Downloads\\storm_details\\StormEvents_details-ftp_v1.0_d2021_c20220214.csv')\n",
    "# df2 = pd.read_csv(r'C:\\Users\\16028\\Downloads\\storm_details\\StormEvents_details-ftp_v1.0_d2020_c20220214.csv')\n",
    "# df3 = pd.read_csv(r'C:\\Users\\16028\\Downloads\\storm_details\\StormEvents_details-ftp_v1.0_d2019_c20220214.csv')\n",
    "# df4 = pd.read_csv(r'C:\\Users\\16028\\Downloads\\storm_details\\StormEvents_details-ftp_v1.0_d2018_c20220214.csv')\n",
    "# df5 = pd.read_csv(r'C:\\Users\\16028\\Downloads\\storm_details\\StormEvents_details-ftp_v1.0_d2017_c20220214.csv')\n",
    "# df6 = pd.read_csv(r'C:\\Users\\16028\\Downloads\\storm_details\\StormEvents_details-ftp_v1.0_d2016_c20220214.csv')\n",
    "# df7 = pd.read_csv(r'C:\\Users\\16028\\Downloads\\storm_details\\StormEvents_details-ftp_v1.0_d2015_c20220214.csv')\n",
    "# df8 = pd.read_csv(r'C:\\Users\\16028\\Downloads\\storm_details\\StormEvents_details-ftp_v1.0_d2014_c20220214.csv')\n",
    "\n",
    "# #extras\n",
    "# df_loc_1 = pd.read_csv(r'C:\\Users\\16028\\Downloads\\storm_details\\StormEvents_locations-ftp_v1.0_d2021_c20220217.csv')\n",
    "# df_loc_2 = pd.read_csv(r'C:\\Users\\16028\\Downloads\\storm_details\\2019\\StormEvents_locations-ftp_v1.0_d2019_c20220214.csv')\n"
   ]
  },
  {
   "cell_type": "code",
   "execution_count": 7,
   "id": "58e811b2",
   "metadata": {},
   "outputs": [],
   "source": [
    "\n",
    "#just take one of the modern years\n",
    "df = pd.read_csv(r'C:\\Users\\16028\\Downloads\\storm_details\\StormEvents_details-ftp_v1.0_d2019_c20220214.csv')\n",
    "# df = df3.copy()\n",
    "\n",
    "#old sections\n",
    "df1950 = pd.read_csv(r'C:\\Users\\16028\\Downloads\\storm_details\\StormEvents_details-ftp_v1.0_d1950_c20210803.csv')\n",
    "df1951 = pd.read_csv(r'C:\\Users\\16028\\Downloads\\storm_details\\StormEvents_details-ftp_v1.0_d1951_c20210803.csv')\n",
    "df1952 = pd.read_csv(r'C:\\Users\\16028\\Downloads\\storm_details\\StormEvents_details-ftp_v1.0_d1952_c20210803.csv')\n",
    "df1953 = pd.read_csv(r'C:\\Users\\16028\\Downloads\\storm_details\\StormEvents_details-ftp_v1.0_d1953_c20210803.csv')\n",
    "df1954 = pd.read_csv(r'C:\\Users\\16028\\Downloads\\storm_details\\StormEvents_details-ftp_v1.0_d1954_c20210803.csv')\n",
    "df1955 = pd.read_csv(r'C:\\Users\\16028\\Downloads\\storm_details\\StormEvents_details-ftp_v1.0_d1955_c20210803.csv')\n",
    "df1956 = pd.read_csv(r'C:\\Users\\16028\\Downloads\\storm_details\\StormEvents_details-ftp_v1.0_d1956_c20210803.csv')\n"
   ]
  },
  {
   "cell_type": "code",
   "execution_count": 9,
   "id": "a3e301c8",
   "metadata": {},
   "outputs": [
    {
     "name": "stdout",
     "output_type": "stream",
     "text": [
      "Index(['begin_yearmonth', 'begin_day', 'begin_time', 'end_yearmonth',\n",
      "       'end_day', 'end_time', 'episode_id', 'event_id', 'state', 'state_fips',\n",
      "       'year', 'month_name', 'event_type', 'cz_type', 'cz_fips', 'cz_name',\n",
      "       'wfo', 'begin_date_time', 'cz_timezone', 'end_date_time',\n",
      "       'injuries_direct', 'injuries_indirect', 'deaths_direct',\n",
      "       'deaths_indirect', 'damage_property', 'damage_crops', 'source',\n",
      "       'magnitude', 'magnitude_type', 'flood_cause', 'category', 'tor_f_scale',\n",
      "       'tor_length', 'tor_width', 'tor_other_wfo', 'tor_other_cz_state',\n",
      "       'tor_other_cz_fips', 'tor_other_cz_name', 'begin_range',\n",
      "       'begin_azimuth', 'begin_location', 'end_range', 'end_azimuth',\n",
      "       'end_location', 'begin_lat', 'begin_lon', 'end_lat', 'end_lon',\n",
      "       'episode_narrative', 'event_narrative', 'data_source'],\n",
      "      dtype='object')\n"
     ]
    }
   ],
   "source": [
    "df_dict = dict()\n",
    "listy_1950 = [val + 1950 for val in range(11)]\n",
    "for i in listy_1950:\n",
    "    df_dict[i] = pd.read_csv(r'C:\\Users\\16028\\Downloads\\storm_details\\StormEvents_details-ftp_v1.0_d' + str(i) + '_c20210803.csv')\n",
    "    \n",
    "#issues with the read in notation\n",
    "# listy_2010 = [val + 2010 for val in range(12)]\n",
    "# for i in listy_2010:\n",
    "#     df_dict[i] = pd.read_csv(r'C:\\Users\\16028\\Downloads\\storm_details\\StormEvents_details-ftp_v1.0_d' + str(i) + '_c20210803.csv')\n",
    "    \n",
    "\n",
    "df = pd.concat([df_dict[i] for i in df_dict.keys()])\n",
    "df.columns = df.columns.str.lower()\n",
    "print(df.columns)"
   ]
  },
  {
   "cell_type": "code",
   "execution_count": 10,
   "id": "b4dfedc5",
   "metadata": {},
   "outputs": [],
   "source": [
    "\n",
    "# df = df.sample(n=1000, random_state=1)\n",
    "df.columns\n",
    "df = df[['begin_yearmonth', 'begin_day', 'episode_id', 'event_id', 'state', 'event_type', \n",
    "         'magnitude', 'category', 'tor_f_scale', 'tor_length', 'tor_width', 'begin_azimuth', 'begin_lat', 'begin_lon',\n",
    "         'damage_property']]\n",
    "df.drop(columns=['begin_azimuth', 'episode_id', 'category',], inplace=True)\n",
    "\n",
    "# https://stackoverflow.com/questions/39684548/convert-the-string-2-90k-to-2900-or-5-2m-to-5200000-in-pandas-dataframe\n",
    "df.damage_property = (df.damage_property.replace(r'[KM]+$', '', regex=True).astype(float) * \\\n",
    "df.damage_property.str.extract(r'[\\d\\.]+([KM]+)', expand=False)\n",
    ".fillna(1).replace(['K','M'], [10**3, 10**6]).astype(int))\n",
    "    \n",
    "\n"
   ]
  },
  {
   "cell_type": "code",
   "execution_count": 11,
   "id": "6bdcfd7f",
   "metadata": {},
   "outputs": [
    {
     "data": {
      "text/plain": [
       "(array([8.729e+03, 3.570e+02, 1.293e+03, 0.000e+00, 1.642e+03, 8.820e+02,\n",
       "        0.000e+00, 2.080e+02, 2.400e+01, 1.000e+00]),\n",
       " array([ 0.        ,  1.61180958,  3.22361915,  4.83542873,  6.4472383 ,\n",
       "         8.05904788,  9.67085745, 11.28266703, 12.8944766 , 14.50628618,\n",
       "        16.11809575]),\n",
       " <BarContainer object of 10 artists>)"
      ]
     },
     "execution_count": 11,
     "metadata": {},
     "output_type": "execute_result"
    },
    {
     "data": {
      "image/png": "[encoded data removed]",
      "text/plain": [
       "<Figure size 432x288 with 1 Axes>"
      ]
     },
     "metadata": {
      "needs_background": "light"
     },
     "output_type": "display_data"
    }
   ],
   "source": [
    "\n",
    "df['damage_property'] = df['damage_property']/25 #gonna have to adjust for their rough estimate practice\n",
    "df['damage_property'] = np.log(df['damage_property'] + 1) #log +1  to not have log(0)\n",
    "plt.hist(df['damage_property'])\n",
    "\n",
    "counts, bins = np.histogram(df.damage_property)\n",
    "plt.hist(bins[:-1], bins, weights=counts)\n"
   ]
  },
  {
   "cell_type": "code",
   "execution_count": 12,
   "id": "bab063b2",
   "metadata": {},
   "outputs": [],
   "source": [
    "\n",
    "df['year'] = df['begin_yearmonth'].astype(str).str[:4].astype(int)\n",
    "df['month'] = df['begin_yearmonth'].astype(str).str[4:].astype(int)\n",
    "df['years_since'] = df['year'] - 1950\n",
    "\n",
    "df['days_since'] = df['years_since']*365 + df['month']*12 + df['begin_day']\n",
    "df.days_since\n",
    "one_hot = pd.get_dummies(df[['event_type', 'tor_f_scale']])\n",
    "\n",
    "df = df.drop(['event_type', 'tor_f_scale'], axis = 1)\n",
    "# Join the encoded df\n",
    "df = pd.concat([df, one_hot], axis=1)\n",
    "\n",
    "df.drop(columns=[ 'begin_yearmonth', 'begin_day', 'event_id', 'state', 'year', 'month',\n",
    "                 'years_since',], inplace=True)"
   ]
  },
  {
   "cell_type": "code",
   "execution_count": 16,
   "id": "4612d71c",
   "metadata": {},
   "outputs": [],
   "source": [
    "X = df.drop(columns=['damage_property'])\n",
    "y = df['damage_property']\n",
    "X.fillna(0, inplace=True)\n",
    "y.fillna(0, inplace=True)\n"
   ]
  },
  {
   "cell_type": "code",
   "execution_count": null,
   "id": "5d39dc71",
   "metadata": {},
   "outputs": [],
   "source": [
    "from sklearn.model_selection import train_test_split\n",
    "X_train, X_test, y_train, y_test = train_test_split(X,y, test_size=.3)"
   ]
  },
  {
   "cell_type": "code",
   "execution_count": 17,
   "id": "829870b8",
   "metadata": {},
   "outputs": [
    {
     "data": {
      "text/plain": [
       "2.743912394504245"
      ]
     },
     "execution_count": 17,
     "metadata": {},
     "output_type": "execute_result"
    }
   ],
   "source": [
    "#This model is just to get a sense of what transformations of the data are needed to get it in model-ready form. We are predicting\n",
    "# the severity of a storm based, essentially, on past data of storm severity as a function of location, point in time, and other\n",
    "# covariates. We are off by a good bit even on the log scale\n",
    "from sklearn.ensemble import RandomForestRegressor\n",
    "regr = RandomForestRegressor(max_depth=12, random_state=0)\n",
    "regr.fit(X_train, y_train)\n",
    "y_pred = regr.predict(X_test)\n",
    "from sklearn.metrics import mean_squared_error\n",
    "print(mean_squared_error(y_test, y_pred))\n"
   ]
  },
  {
   "cell_type": "code",
   "execution_count": null,
   "id": "473572ab",
   "metadata": {},
   "outputs": [],
   "source": []
  }
 ],
 "metadata": {
  "kernelspec": {
   "display_name": "Python 3 (ipykernel)",
   "language": "python",
   "name": "python3"
  },
  "language_info": {
   "codemirror_mode": {
    "name": "ipython",
    "version": 3
   },
   "file_extension": ".py",
   "mimetype": "text/x-python",
   "name": "python",
   "nbconvert_exporter": "python",
   "pygments_lexer": "ipython3",
   "version": "3.9.7"
  }
 },
 "nbformat": 4,
 "nbformat_minor": 5
}
